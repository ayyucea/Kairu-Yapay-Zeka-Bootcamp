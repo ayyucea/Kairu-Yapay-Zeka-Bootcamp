{
  "cells": [
    {
      "cell_type": "markdown",
      "metadata": {
        "id": "O6k9JBiJ0aYx"
      },
      "source": [
        "# Veri Bilimi Çalışma Soruları\n",
        "\n",
        "\n",
        "Veri seti: [Titanic](https://raw.githubusercontent.com/datasciencedojo/datasets/master/titanic.csv)"
      ]
    },
    {
      "cell_type": "code",
      "execution_count": 1,
      "metadata": {
        "id": "c-V_14cu0aYz"
      },
      "outputs": [],
      "source": [
        "import pandas as pd\n",
        "import numpy as np\n",
        "from sklearn.preprocessing import MinMaxScaler, StandardScaler, LabelEncoder\n",
        "\n",
        "url = 'https://raw.githubusercontent.com/datasciencedojo/datasets/master/titanic.csv'\n",
        "df = pd.read_csv(url)"
      ]
    },
    {
      "cell_type": "markdown",
      "metadata": {
        "id": "bSpq6Rwa0aY4"
      },
      "source": [
        "## Kolay Sorular"
      ]
    },
    {
      "cell_type": "markdown",
      "metadata": {
        "id": "jb0_rkKy0aY5"
      },
      "source": [
        "**Soru 1**: `Embarked` sütununda kaç tane eksik veri olduğunu bulun."
      ]
    },
    {
      "cell_type": "code",
      "execution_count": 2,
      "metadata": {
        "id": "uFrfGRPS0aY6"
      },
      "outputs": [
        {
          "data": {
            "text/plain": [
              "2"
            ]
          },
          "execution_count": 2,
          "metadata": {},
          "output_type": "execute_result"
        }
      ],
      "source": [
        "df['Embarked'].isnull().sum()\n"
      ]
    },
    {
      "cell_type": "markdown",
      "metadata": {
        "id": "4yAR63Td0aY7"
      },
      "source": [
        "**Soru 2**: `Cabin` sütunundaki eksik verileri 'Unknown' ile doldurun ve sonucu yeni bir sütun (`Cabin_filled`) olarak kaydedin."
      ]
    },
    {
      "cell_type": "code",
      "execution_count": 3,
      "metadata": {
        "id": "pSzFf7480aY8"
      },
      "outputs": [
        {
          "data": {
            "text/plain": [
              "0    Unknown\n",
              "1        C85\n",
              "2    Unknown\n",
              "3       C123\n",
              "4    Unknown\n",
              "Name: Cabin_filled, dtype: object"
            ]
          },
          "execution_count": 3,
          "metadata": {},
          "output_type": "execute_result"
        }
      ],
      "source": [
        "df['Cabin_filled'] = df['Cabin'].fillna('Unknown')\n",
        "df['Cabin_filled'].head()"
      ]
    },
    {
      "cell_type": "markdown",
      "metadata": {
        "id": "vqC3C6S80aY-"
      },
      "source": [
        "**Soru 3**: `Age` sütunundaki eksik verileri ortalama yaş ile doldurun."
      ]
    },
    {
      "cell_type": "code",
      "execution_count": 44,
      "metadata": {
        "id": "UourAbnE0aY_"
      },
      "outputs": [
        {
          "name": "stdout",
          "output_type": "stream",
          "text": [
            "0    22.0\n",
            "1    38.0\n",
            "2    26.0\n",
            "3    35.0\n",
            "4    35.0\n",
            "Name: Age, dtype: float64\n"
          ]
        }
      ],
      "source": [
        "\n",
        "df['Age'] = df['Age'].fillna(df['Age'].mean())\n",
        "print(df['Age'].head())"
      ]
    },
    {
      "cell_type": "markdown",
      "metadata": {
        "id": "9jpy_xHO0aY_"
      },
      "source": [
        "**Soru 4**: `Pclass` sütununu kategorik veri tipine (`category`) dönüştürün."
      ]
    },
    {
      "cell_type": "code",
      "execution_count": 45,
      "metadata": {
        "id": "0KYjYaDn0aZA"
      },
      "outputs": [
        {
          "name": "stdout",
          "output_type": "stream",
          "text": [
            "0    3.0\n",
            "1    1.0\n",
            "2    3.0\n",
            "3    1.0\n",
            "4    3.0\n",
            "Name: Pclass, dtype: category\n",
            "Categories (3, float64): [1.0, 2.0, 3.0]\n"
          ]
        }
      ],
      "source": [
        "df['Pclass'] = df['Pclass'].astype('category')\n",
        "df['Pclass'].dtype\n",
        "print(df['Pclass'].head())"
      ]
    },
    {
      "cell_type": "markdown",
      "metadata": {
        "id": "CpJWu3b_0aZA"
      },
      "source": [
        "**Soru 5**: `Sex` sütunundaki benzersiz değerleri listeleyin."
      ]
    },
    {
      "cell_type": "code",
      "execution_count": 46,
      "metadata": {
        "id": "bEtNoZQJ0aZB"
      },
      "outputs": [
        {
          "name": "stdout",
          "output_type": "stream",
          "text": [
            "['male' 'female']\n"
          ]
        }
      ],
      "source": [
        "unique_sex = df['Sex'].unique()\n",
        "print(unique_sex)"
      ]
    },
    {
      "cell_type": "markdown",
      "metadata": {
        "id": "BeFdWGpt0aZB"
      },
      "source": [
        "**Soru 6**: `Sex` sütununu LabelEncoder kullanarak sayısal değerlere dönüştürün (`male=0`, `female=1`)."
      ]
    },
    {
      "cell_type": "code",
      "execution_count": 47,
      "metadata": {
        "id": "DUMjQ6kB0aZC"
      },
      "outputs": [
        {
          "name": "stdout",
          "output_type": "stream",
          "text": [
            "      Sex  Sex_encoded\n",
            "0    male            1\n",
            "1  female            0\n",
            "2  female            0\n",
            "3  female            0\n",
            "4    male            1\n"
          ]
        }
      ],
      "source": [
        "le = LabelEncoder()\n",
        "df['Sex_encoded'] = le.fit_transform(df['Sex'])\n",
        "print(df[['Sex', 'Sex_encoded']].head())"
      ]
    },
    {
      "cell_type": "markdown",
      "metadata": {
        "id": "2-w2GO-B0aZC"
      },
      "source": [
        "**Soru 7**: `Name` sütunundaki değerleri küçük harfe çevirin ve yeni bir sütun (`Name_lower`) oluşturun."
      ]
    },
    {
      "cell_type": "code",
      "execution_count": 8,
      "metadata": {
        "id": "P6Fyr_Ay0aZD"
      },
      "outputs": [
        {
          "data": {
            "text/plain": [
              "0                              braund, mr. owen harris\n",
              "1    cumings, mrs. john bradley (florence briggs th...\n",
              "2                               heikkinen, miss. laina\n",
              "3         futrelle, mrs. jacques heath (lily may peel)\n",
              "4                             allen, mr. william henry\n",
              "Name: Name_lower, dtype: object"
            ]
          },
          "execution_count": 8,
          "metadata": {},
          "output_type": "execute_result"
        }
      ],
      "source": [
        "df['Name_lower'] = df['Name'].str.lower()\n",
        "df['Name_lower'].head()"
      ]
    },
    {
      "cell_type": "markdown",
      "metadata": {
        "id": "0_3qcLLs0aZD"
      },
      "source": [
        "**Soru 8**: `Fare` sütununu MinMaxScaler ile [0,1] aralığına normalleştirin."
      ]
    },
    {
      "cell_type": "code",
      "execution_count": 10,
      "metadata": {
        "id": "pmAEvPiV0aZD"
      },
      "outputs": [
        {
          "data": {
            "text/plain": [
              "0    0.014151\n",
              "1    0.139136\n",
              "2    0.015469\n",
              "3    0.103644\n",
              "4    0.015713\n",
              "Name: Fare_scaled, dtype: float64"
            ]
          },
          "execution_count": 10,
          "metadata": {},
          "output_type": "execute_result"
        }
      ],
      "source": [
        "from sklearn.preprocessing import MinMaxScaler\n",
        "\n",
        "scaler = MinMaxScaler()\n",
        "df['Fare_scaled'] = scaler.fit_transform(df[['Fare']])\n",
        "df['Fare_scaled'].head()"
      ]
    },
    {
      "cell_type": "markdown",
      "metadata": {
        "id": "225c3Gum0aZD"
      },
      "source": [
        "**Soru 9**: `Ticket` sütununda yalnızca rakamlardan oluşan değerleri bulun (`str.isdigit`)."
      ]
    },
    {
      "cell_type": "code",
      "execution_count": 11,
      "metadata": {
        "id": "NU0rrePN0aZE"
      },
      "outputs": [
        {
          "name": "stdout",
          "output_type": "stream",
          "text": [
            "3      113803\n",
            "4      373450\n",
            "5      330877\n",
            "6       17463\n",
            "7      349909\n",
            "        ...  \n",
            "885    382652\n",
            "886    211536\n",
            "887    112053\n",
            "889    111369\n",
            "890    370376\n",
            "Name: Ticket, Length: 661, dtype: object\n"
          ]
        }
      ],
      "source": [
        "numeric_tickets = df[df['Ticket'].str.isdigit()]['Ticket']\n",
        "print(numeric_tickets)"
      ]
    },
    {
      "cell_type": "markdown",
      "metadata": {
        "id": "HISaWd_P0aZE"
      },
      "source": [
        "**Soru 10**: `Age` sütununu StandardScaler ile standardize edin (ortalama 0, standart sapma 1)."
      ]
    },
    {
      "cell_type": "code",
      "execution_count": 48,
      "metadata": {
        "id": "MyQJ3LhS0aZF"
      },
      "outputs": [
        {
          "name": "stdout",
          "output_type": "stream",
          "text": [
            "0   -0.592481\n",
            "1    0.638789\n",
            "2   -0.284663\n",
            "3    0.407926\n",
            "4    0.407926\n",
            "Name: Age_scaled, dtype: float64\n"
          ]
        }
      ],
      "source": [
        "scaler = StandardScaler()\n",
        "df['Age_scaled'] = scaler.fit_transform(df[['Age']])\n",
        "print(df['Age_scaled'].head())"
      ]
    },
    {
      "cell_type": "markdown",
      "metadata": {
        "id": "NRMTpPSH0aZF"
      },
      "source": [
        "## Orta Düzey Sorular"
      ]
    },
    {
      "cell_type": "markdown",
      "metadata": {
        "id": "SmWICOst0aZF"
      },
      "source": [
        "**Soru 11**: `Age` sütunundaki eksik verileri, `Pclass` gruplarına göre medyan ile doldurun."
      ]
    },
    {
      "cell_type": "code",
      "execution_count": 49,
      "metadata": {
        "id": "LKrfiInT0aZF"
      },
      "outputs": [
        {
          "name": "stdout",
          "output_type": "stream",
          "text": [
            "0    22.0\n",
            "1    38.0\n",
            "2    26.0\n",
            "3    35.0\n",
            "4    35.0\n",
            "Name: Age, dtype: float64\n"
          ]
        },
        {
          "name": "stderr",
          "output_type": "stream",
          "text": [
            "C:\\Users\\ayyuc\\AppData\\Local\\Temp\\ipykernel_18088\\4225251115.py:1: FutureWarning: The default of observed=False is deprecated and will be changed to True in a future version of pandas. Pass observed=False to retain current behavior or observed=True to adopt the future default and silence this warning.\n",
            "  df['Age'] = df.groupby('Pclass')['Age'].transform(lambda x: x.fillna(x.median()))\n"
          ]
        }
      ],
      "source": [
        "df['Age'] = df.groupby('Pclass')['Age'].transform(lambda x: x.fillna(x.median()))\n",
        "print(df['Age'].head())"
      ]
    },
    {
      "cell_type": "markdown",
      "metadata": {
        "id": "JI0iLNE00aZF"
      },
      "source": [
        "**Soru 12**: `Fare` sütununda IQR yöntemiyle aykırı değerleri tespit edin ve aykırı olan satırların indekslerini listeleyin."
      ]
    },
    {
      "cell_type": "code",
      "execution_count": 14,
      "metadata": {
        "id": "aDwWSC3F0aZF"
      },
      "outputs": [
        {
          "name": "stdout",
          "output_type": "stream",
          "text": [
            "Index([  1,  27,  31,  34,  52,  61,  62,  72,  88, 102,\n",
            "       ...\n",
            "       792, 802, 820, 829, 835, 846, 849, 856, 863, 879],\n",
            "      dtype='int64', length=116)\n"
          ]
        }
      ],
      "source": [
        "Q1 = df['Fare'].quantile(0.25)\n",
        "Q3 = df['Fare'].quantile(0.75)\n",
        "IQR = Q3 - Q1\n",
        "lower_bound = Q1 - 1.5 * IQR\n",
        "upper_bound = Q3 + 1.5 * IQR\n",
        "outliers = df[(df['Fare'] < lower_bound) | (df['Fare'] > upper_bound)].index\n",
        "print(outliers)"
      ]
    },
    {
      "cell_type": "markdown",
      "metadata": {
        "id": "tI3LuHys0aZG"
      },
      "source": [
        "**Soru 13**: `Embarked` sütununu one-hot encoding ile kodlayın ve dummy tuzağını önlemek için bir sütunu silin."
      ]
    },
    {
      "cell_type": "code",
      "execution_count": 50,
      "metadata": {
        "id": "K4HwUwS30aZG"
      },
      "outputs": [
        {
          "name": "stdout",
          "output_type": "stream",
          "text": [
            "  Embarked  Embarked_Q  Embarked_Q  Embarked_S  Embarked_S\n",
            "0        S       False       False        True        True\n",
            "1        C       False       False       False       False\n",
            "2        S       False       False        True        True\n",
            "3        S       False       False        True        True\n",
            "4        S       False       False        True        True\n"
          ]
        }
      ],
      "source": [
        "embarked_dummies = pd.get_dummies(df['Embarked'], prefix='Embarked', drop_first=True)\n",
        "df = pd.concat([df, embarked_dummies], axis=1)\n",
        "print(df[['Embarked', 'Embarked_Q', 'Embarked_S']].head())"
      ]
    },
    {
      "cell_type": "markdown",
      "metadata": {
        "id": "m1wXvjO00aZG"
      },
      "source": [
        "**Soru 14**: `Name` sütununda 'Miss.' içeren satırları filtreleyin ve yeni bir sütun (`Is_Miss`) oluşturun (1: Miss, 0: Değil)."
      ]
    },
    {
      "cell_type": "code",
      "execution_count": 51,
      "metadata": {
        "id": "f7GhlKIK0aZG"
      },
      "outputs": [
        {
          "name": "stdout",
          "output_type": "stream",
          "text": [
            "                                                Name  Is_Miss\n",
            "0                            Braund. Mr. Owen Harris        0\n",
            "1  Cumings. Mrs. John Bradley (Florence Briggs Th...        0\n",
            "2                             Heikkinen. Miss. Laina        1\n",
            "3       Futrelle. Mrs. Jacques Heath (Lily May Peel)        0\n",
            "4                           Allen. Mr. William Henry        0\n"
          ]
        }
      ],
      "source": [
        "df['Is_Miss'] = df['Name'].str.contains('Miss.', regex=False).astype(int)\n",
        "print(df[['Name', 'Is_Miss']].head())"
      ]
    },
    {
      "cell_type": "markdown",
      "metadata": {
        "id": "BbtEmebF0aZH"
      },
      "source": [
        "**Soru 15**: `Ticket` sütunundaki değerlerin başındaki ve sonundaki boşlukları kaldırın (`str.strip`)."
      ]
    },
    {
      "cell_type": "code",
      "execution_count": 52,
      "metadata": {
        "id": "bZQ9cdBp0aZI"
      },
      "outputs": [
        {
          "name": "stdout",
          "output_type": "stream",
          "text": [
            "0           A/5 21171\n",
            "1            PC 17599\n",
            "2    STON/O2. 3101282\n",
            "3              113803\n",
            "4              373450\n",
            "Name: Ticket, dtype: object\n"
          ]
        }
      ],
      "source": [
        "df['Ticket'] = df['Ticket'].str.strip()\n",
        "print(df['Ticket'].head())"
      ]
    },
    {
      "cell_type": "markdown",
      "metadata": {
        "id": "jFhS5BW_0aZI"
      },
      "source": [
        "**Soru 16**: `Age` sütununda Z-Score yöntemiyle (|Z| > 3) aykırı değerleri tespit edin."
      ]
    },
    {
      "cell_type": "code",
      "execution_count": 53,
      "metadata": {
        "id": "9Cm5hUWK0aZI"
      },
      "outputs": [
        {
          "name": "stdout",
          "output_type": "stream",
          "text": [
            "[96, 116, 493, 630, 672, 745, 851]\n"
          ]
        }
      ],
      "source": [
        "z_scores = np.abs((df['Age'] - df['Age'].mean()) / df['Age'].std())\n",
        "outliers = df[z_scores > 3].index\n",
        "print(outliers.tolist())"
      ]
    },
    {
      "cell_type": "markdown",
      "metadata": {
        "id": "NA27W4340aZJ"
      },
      "source": [
        "**Soru 17**: `Sex` ve `Embarked` sütunlarını birleştirerek yeni bir özellik oluşturun (ör. `male_S`, `female_Q`) ve `zip` fonksiyonunu kullanın."
      ]
    },
    {
      "cell_type": "code",
      "execution_count": 54,
      "metadata": {
        "id": "A1bCPtGz0aZJ"
      },
      "outputs": [
        {
          "name": "stdout",
          "output_type": "stream",
          "text": [
            "0      male_S\n",
            "1    female_C\n",
            "2    female_S\n",
            "3    female_S\n",
            "4      male_S\n",
            "Name: Sex_Embarked, dtype: object\n"
          ]
        }
      ],
      "source": [
        "df['Sex_Embar ked'] = [f\"{s}_{e}\" for s, e in zip(df['Sex'], df['Embarked'])]\n",
        "print(df['Sex_Embarked'].head())"
      ]
    },
    {
      "cell_type": "markdown",
      "metadata": {
        "id": "h5bXuC5J0aZJ"
      },
      "source": [
        "**Soru 18**: `Embarked` sütunundaki eksik verileri mod ile doldurun."
      ]
    },
    {
      "cell_type": "code",
      "execution_count": 55,
      "metadata": {
        "id": "_nXRJoOM0aZl"
      },
      "outputs": [
        {
          "name": "stdout",
          "output_type": "stream",
          "text": [
            "0\n",
            "0    S\n",
            "1    C\n",
            "2    S\n",
            "3    S\n",
            "4    S\n",
            "Name: Embarked, dtype: object\n"
          ]
        }
      ],
      "source": [
        "df['Embarked'] = df['Embarked'].fillna(df['Embarked'].mode()[0])\n",
        "print(df['Embarked'].isna().sum())\n",
        "print(df['Embarked'].head())"
      ]
    },
    {
      "cell_type": "markdown",
      "metadata": {
        "id": "DsNIuS5z0aZl"
      },
      "source": [
        "**Soru 19**: `Name` sütununda virgül (`,`) karakterini nokta (`.`) ile değiştirin (`str.replace`)."
      ]
    },
    {
      "cell_type": "code",
      "execution_count": 57,
      "metadata": {
        "id": "YeOBWHGK0aZm"
      },
      "outputs": [
        {
          "name": "stdout",
          "output_type": "stream",
          "text": [
            "0                              Braund. Mr. Owen Harris\n",
            "1    Cumings. Mrs. John Bradley (Florence Briggs Th...\n",
            "2                               Heikkinen. Miss. Laina\n",
            "3         Futrelle. Mrs. Jacques Heath (Lily May Peel)\n",
            "4                             Allen. Mr. William Henry\n",
            "Name: Name, dtype: object\n"
          ]
        }
      ],
      "source": [
        "df['Name'] = df['Name'].str.replace(',', '.', regex=False)\n",
        "print(df['Name'].head())"
      ]
    },
    {
      "cell_type": "markdown",
      "metadata": {
        "id": "yhl1-1o-0aZm"
      },
      "source": [
        "**Soru 20**: `Fare` sütununda negatif veya sıfır değerleri kontrol edin ve bunları medyan ile değiştirin."
      ]
    },
    {
      "cell_type": "code",
      "execution_count": null,
      "metadata": {
        "id": "w6uy8EVl0aZm"
      },
      "outputs": [
        {
          "name": "stdout",
          "output_type": "stream",
          "text": [
            "Series([], Name: Fare, dtype: float64)\n",
            "0     7.2500\n",
            "1    65.6125\n",
            "2     7.9250\n",
            "3    53.1000\n",
            "4     8.0500\n",
            "Name: Fare, dtype: float64\n"
          ]
        }
      ],
      "source": [
        "median_fare = df['Fare'].median()\n",
        "df.loc[df['Fare'] <= 0, 'Fare'] = median_fare\n",
        "print(df[df['Fare'] <= 0]['Fare'])  \n",
        "print(df['Fare'].head())"
      ]
    },
    {
      "cell_type": "markdown",
      "metadata": {
        "id": "WM3GxKpi0aZm"
      },
      "source": [
        "## İleri Düzey Sorular"
      ]
    },
    {
      "cell_type": "markdown",
      "metadata": {
        "id": "6V_DgtM10aZn"
      },
      "source": [
        "**Soru 21**: `Age` sütunundaki eksik verileri, `Pclass` ve `Sex` kombinasyonlarına göre medyan ile doldurun."
      ]
    },
    {
      "cell_type": "code",
      "execution_count": 59,
      "metadata": {
        "id": "4R9ftrS30aZn"
      },
      "outputs": [
        {
          "name": "stdout",
          "output_type": "stream",
          "text": [
            "0    22.0\n",
            "1    38.0\n",
            "2    26.0\n",
            "3    35.0\n",
            "4    35.0\n",
            "Name: Age, dtype: float64\n"
          ]
        },
        {
          "name": "stderr",
          "output_type": "stream",
          "text": [
            "C:\\Users\\ayyuc\\AppData\\Local\\Temp\\ipykernel_18088\\205588973.py:1: FutureWarning: The default of observed=False is deprecated and will be changed to True in a future version of pandas. Pass observed=False to retain current behavior or observed=True to adopt the future default and silence this warning.\n",
            "  df['Age'] = df.groupby(['Pclass', 'Sex'])['Age'].transform(lambda x: x.fillna(x.median()))\n"
          ]
        }
      ],
      "source": [
        "df['Age'] = df.groupby(['Pclass', 'Sex'])['Age'].transform(lambda x: x.fillna(x.median()))\n",
        "print(df['Age'].head())"
      ]
    },
    {
      "cell_type": "markdown",
      "metadata": {
        "id": "Q4vhilgz0aZn"
      },
      "source": [
        "**Soru 22**: `Fare` sütunundaki aykırı değerleri IQR yöntemiyle tespit edin ve bunları Q1 - 1.5*IQR ve Q3 + 1.5*IQR sınırlarıyla sınırlandırın (`clip`)."
      ]
    },
    {
      "cell_type": "code",
      "execution_count": 60,
      "metadata": {
        "id": "M4rNmkzX0aZn"
      },
      "outputs": [
        {
          "name": "stdout",
          "output_type": "stream",
          "text": [
            "count    891.000000\n",
            "mean      24.287299\n",
            "std       20.273302\n",
            "min        4.012500\n",
            "25%        7.925000\n",
            "50%       14.454200\n",
            "75%       31.000000\n",
            "max       65.612500\n",
            "Name: Fare, dtype: float64\n"
          ]
        }
      ],
      "source": [
        "Q1 = df['Fare'].quantile(0.25)\n",
        "Q3 = df['Fare'].quantile(0.75)\n",
        "IQR = Q3 - Q1\n",
        "lower_bound = Q1 - 1.5 * IQR\n",
        "upper_bound = Q3 + 1.5 * IQR\n",
        "df['Fare'] = df['Fare'].clip(lower=lower_bound, upper=upper_bound)\n",
        "print(df['Fare'].describe())"
      ]
    },
    {
      "cell_type": "markdown",
      "metadata": {
        "id": "oJezZQBT0aZo"
      },
      "source": [
        "**Soru 23**: `Embarked` sütununu hedef (`Survived`) bazlı kodlayın (target encoding) ve yeni bir sütun (`Embarked_target`) oluşturun."
      ]
    },
    {
      "cell_type": "code",
      "execution_count": 61,
      "metadata": {
        "id": "-l_fT8wU0aZo"
      },
      "outputs": [
        {
          "name": "stdout",
          "output_type": "stream",
          "text": [
            "  Embarked  Embarked_target\n",
            "0        S         0.339009\n",
            "1        C         0.553571\n",
            "2        S         0.339009\n",
            "3        S         0.339009\n",
            "4        S         0.339009\n"
          ]
        }
      ],
      "source": [
        "target_means = df.groupby('Embarked')['Survived'].mean()\n",
        "df['Embarked_target'] = df['Embarked'].map(target_means)\n",
        "print(df[['Embarked', 'Embarked_target']].head())"
      ]
    },
    {
      "cell_type": "markdown",
      "metadata": {
        "id": "_zlWhEm00aZo"
      },
      "source": [
        "**Soru 24**: `Name` sütunundan unvanları (ör. Mr., Mrs., Miss.) çıkarın ve yeni bir sütun (`Title`) oluşturun (`str.extract` ile regex kullanın). Yeni oluşturulan Title sütunu yolcunun sadece unvanını içermeli."
      ]
    },
    {
      "cell_type": "code",
      "execution_count": 62,
      "metadata": {
        "id": "aU1EZOSO0aZo"
      },
      "outputs": [
        {
          "name": "stdout",
          "output_type": "stream",
          "text": [
            "                                                Name Title\n",
            "0                            Braund. Mr. Owen Harris    Mr\n",
            "1  Cumings. Mrs. John Bradley (Florence Briggs Th...   Mrs\n",
            "2                             Heikkinen. Miss. Laina  Miss\n",
            "3       Futrelle. Mrs. Jacques Heath (Lily May Peel)   Mrs\n",
            "4                           Allen. Mr. William Henry    Mr\n"
          ]
        }
      ],
      "source": [
        "df['Title'] = df['Name'].str.extract(r' ([A-Za-z]+)\\.', expand=False)\n",
        "print(df[['Name', 'Title']].head())"
      ]
    },
    {
      "cell_type": "markdown",
      "metadata": {
        "id": "sVALfhhc0aZp"
      },
      "source": [
        "**Soru 25**: `Age` sütununu üç gruba ayırın (çocuk: <18, yetişkin: 18-60, yaşlı: >60) ve `lambda` fonksiyonu kullanarak yeni bir sütun (`Age_Group`) oluşturun. Kodlama ile yapılabileceği gibi `cut`, `qcut` fonksiyonlarının araştırılması ve bu fonskyionlardan uygun olanın kullanılması istenmektedir."
      ]
    },
    {
      "cell_type": "code",
      "execution_count": 63,
      "metadata": {
        "id": "Xj2pMs6a0aZs"
      },
      "outputs": [
        {
          "name": "stdout",
          "output_type": "stream",
          "text": [
            "    Age Age_Group\n",
            "0  22.0     Adult\n",
            "1  38.0     Adult\n",
            "2  26.0     Adult\n",
            "3  35.0     Adult\n",
            "4  35.0     Adult\n"
          ]
        }
      ],
      "source": [
        "bins = [-float('inf'), 18, 60, float('inf')]\n",
        "labels = ['Child', 'Adult', 'Senior']\n",
        "df['Age_Group'] = pd.cut(df['Age'], bins=bins, labels=labels)\n",
        "print(df[['Age', 'Age_Group']].head())"
      ]
    },
    {
      "cell_type": "markdown",
      "metadata": {
        "id": "rfYQZOSA0aZs"
      },
      "source": [
        "**Soru 26**: `Ticket` sütununda yalnızca rakamlardan oluşan değerleri sayısala çevirin ve yeni bir sütun (`Ticket_numeric`) oluşturun (`to_numeric`, `errors='coerce'`)."
      ]
    },
    {
      "cell_type": "code",
      "execution_count": 64,
      "metadata": {
        "id": "iaqTZNk50aZs"
      },
      "outputs": [
        {
          "name": "stdout",
          "output_type": "stream",
          "text": [
            "             Ticket  Ticket_numeric\n",
            "0         A/5 21171             NaN\n",
            "1          PC 17599             NaN\n",
            "2  STON/O2. 3101282             NaN\n",
            "3            113803        113803.0\n",
            "4            373450        373450.0\n"
          ]
        }
      ],
      "source": [
        "df['Ticket_numeric'] = pd.to_numeric(df['Ticket'], errors='coerce')\n",
        "print(df[['Ticket', 'Ticket_numeric']].head())"
      ]
    },
    {
      "cell_type": "markdown",
      "metadata": {
        "id": "UX7B8y-Q0aZs"
      },
      "source": [
        "**Soru 27**: `Fare` sütununda aykırı değerleri Z-Score yöntemiyle (|Z| > 3) tespit edin ve bunları medyan ile değiştirin."
      ]
    },
    {
      "cell_type": "code",
      "execution_count": 65,
      "metadata": {
        "id": "rStH0PUn0aZt"
      },
      "outputs": [
        {
          "name": "stdout",
          "output_type": "stream",
          "text": [
            "count    891.000000\n",
            "mean      24.287299\n",
            "std       20.273302\n",
            "min        4.012500\n",
            "25%        7.925000\n",
            "50%       14.454200\n",
            "75%       31.000000\n",
            "max       65.612500\n",
            "Name: Fare, dtype: float64\n"
          ]
        }
      ],
      "source": [
        "z_scores = np.abs((df['Fare'] - df['Fare'].mean()) / df['Fare'].std())\n",
        "median_fare = df['Fare'].median()\n",
        "df.loc[z_scores > 3, 'Fare'] = median_fare\n",
        "print(df['Fare'].describe())"
      ]
    },
    {
      "cell_type": "markdown",
      "metadata": {
        "id": "OecNCcKI0aZu"
      },
      "source": [
        "**Soru 28**: `Cabin` sütununda yalnızca ilk harfi alın (ör. 'C23' → 'C') ve yeni bir sütun (`Cabin_letter`) oluşturun (`str[0]`)."
      ]
    },
    {
      "cell_type": "code",
      "execution_count": 66,
      "metadata": {
        "id": "Osy08o4B0aZu"
      },
      "outputs": [
        {
          "name": "stdout",
          "output_type": "stream",
          "text": [
            "  Cabin Cabin_letter\n",
            "0   NaN          NaN\n",
            "1   C85            C\n",
            "2   NaN          NaN\n",
            "3  C123            C\n",
            "4   NaN          NaN\n"
          ]
        }
      ],
      "source": [
        "df['Cabin_letter'] = df['Cabin'].str[0]\n",
        "print(df[['Cabin', 'Cabin_letter']].head())"
      ]
    },
    {
      "cell_type": "markdown",
      "metadata": {
        "id": "yOOPF3Y10aZu"
      },
      "source": [
        "**Soru 29**: `Embarked` sütununu frekans bazlı kodlayın (her kategorinin frekansını kullanın) ve yeni bir sütun (`Embarked_freq`) oluşturun."
      ]
    },
    {
      "cell_type": "code",
      "execution_count": 67,
      "metadata": {
        "id": "a0xyxPnu0aZu"
      },
      "outputs": [
        {
          "name": "stdout",
          "output_type": "stream",
          "text": [
            "  Embarked  Embarked_freq\n",
            "0        S            646\n",
            "1        C            168\n",
            "2        S            646\n",
            "3        S            646\n",
            "4        S            646\n"
          ]
        }
      ],
      "source": [
        "freq_encoding = df['Embarked'].value_counts()\n",
        "df['Embarked_freq'] = df['Embarked'].map(freq_encoding)\n",
        "print(df[['Embarked', 'Embarked_freq']].head())"
      ]
    },
    {
      "cell_type": "markdown",
      "metadata": {
        "id": "Qb8sjINC0aZu"
      },
      "source": [
        "**Soru 30**: `Age` ve `Fare` sütunlarını kullanarak `map` fonksiyonu ile bir yaş-fiyat oranı (`Age_Fare_Ratio`) oluşturun (ör. `Age / Fare`)."
      ]
    },
    {
      "cell_type": "code",
      "execution_count": 68,
      "metadata": {
        "id": "gJO1qgDX0aZu"
      },
      "outputs": [
        {
          "name": "stdout",
          "output_type": "stream",
          "text": [
            "    Age     Fare  Age_Fare_Ratio\n",
            "0  22.0   7.2500        3.034483\n",
            "1  38.0  65.6125        0.579158\n",
            "2  26.0   7.9250        3.280757\n",
            "3  35.0  53.1000        0.659134\n",
            "4  35.0   8.0500        4.347826\n"
          ]
        }
      ],
      "source": [
        "df['Age_Fare_Ratio'] = df.apply(lambda x: x['Age'] / x['Fare'] if x['Fare'] != 0 else 0, axis=1)\n",
        "print(df[['Age', 'Fare', 'Age_Fare_Ratio']].head())"
      ]
    },
    {
      "cell_type": "markdown",
      "metadata": {
        "id": "JB81Ey5E0aZv"
      },
      "source": [
        "## Araştırma Soruları\n",
        "\n",
        "Aşağıdaki sorular, belirtilen konularda bahsedilmeyen ancak önemli olan yöntem ve fonksiyonları keşfetmek için tasarlanmıştır."
      ]
    },
    {
      "cell_type": "markdown",
      "metadata": {
        "id": "TCgaQvj00aZv"
      },
      "source": [
        "**Araştırma Soru 1**: `sklearn.impute.IterativeImputer` fonksiyonunu araştırın ve `Age` sütunundaki eksik verileri doldurmak için nasıl kullanılabileceğini açıklayın."
      ]
    },
    {
      "cell_type": "code",
      "execution_count": 69,
      "metadata": {
        "id": "y8QkBSv80aZw"
      },
      "outputs": [
        {
          "name": "stdout",
          "output_type": "stream",
          "text": [
            "0    22.0\n",
            "1    38.0\n",
            "2    26.0\n",
            "3    35.0\n",
            "4    35.0\n",
            "Name: Age, dtype: float64\n"
          ]
        }
      ],
      "source": [
        "from sklearn.experimental import enable_iterative_imputer\n",
        "from sklearn.impute import IterativeImputer\n",
        "imputer = IterativeImputer(random_state=0)\n",
        "df[['Age', 'Pclass', 'SibSp', 'Parch', 'Fare']] = imputer.fit_transform(df[['Age', 'Pclass', 'SibSp', 'Parch', 'Fare']])\n",
        "print(df['Age'].head())"
      ]
    },
    {
      "cell_type": "markdown",
      "metadata": {
        "id": "RvR-3W2h0aZw"
      },
      "source": [
        "**Araştırma Soru 2**: `sklearn.preprocessing.RobustScaler` fonksiyonunu araştırın ve `Fare` sütununu ölçeklendirmek için nasıl kullanılabileceğini açıklayın."
      ]
    },
    {
      "cell_type": "code",
      "execution_count": 70,
      "metadata": {
        "id": "EkekUQFD0aZw"
      },
      "outputs": [
        {
          "name": "stdout",
          "output_type": "stream",
          "text": [
            "0   -0.312208\n",
            "1    2.217044\n",
            "2   -0.282956\n",
            "3    1.674791\n",
            "4   -0.277538\n",
            "Name: Fare_scaled_robust, dtype: float64\n"
          ]
        }
      ],
      "source": [
        "scaler = RobustScaler()\n",
        "df['Fare_scaled_robust'] = scaler.fit_transform(df[['Fare']])\n",
        "print(df['Fare_scaled_robust'].head())"
      ]
    },
    {
      "cell_type": "markdown",
      "metadata": {
        "id": "dcAhg8dM0aZx"
      },
      "source": [
        "**Araştırma Soru 3**: `pandas.cut` fonksiyonunu araştırın ve `Age` sütununu eşit aralıklı yaş gruplarına ayırmak için nasıl kullanılabileceğini açıklayın."
      ]
    },
    {
      "cell_type": "code",
      "execution_count": 72,
      "metadata": {
        "id": "lVCIeU3f0aZx"
      },
      "outputs": [
        {
          "name": "stdout",
          "output_type": "stream",
          "text": [
            "    Age Age_Group_Equal\n",
            "0  22.0          Group2\n",
            "1  38.0          Group3\n",
            "2  26.0          Group2\n",
            "3  35.0          Group3\n",
            "4  35.0          Group3\n"
          ]
        }
      ],
      "source": [
        "df['Age_Group_Equal'] = pd.cut(df['Age'], bins=5, labels=['Group1', 'Group2', 'Group3', 'Group4', 'Group5'])\n",
        "print(df[['Age', 'Age_Group_Equal']].head())"
      ]
    },
    {
      "cell_type": "markdown",
      "metadata": {
        "id": "wnq3EcBt0aZx"
      },
      "source": [
        "**Araştırma Soru 4**: `sklearn.preprocessing.OrdinalEncoder` fonksiyonunu araştırın ve `Embarked` sütununu sıralı bir şekilde kodlamak için nasıl kullanılabileceğini açıklayın."
      ]
    },
    {
      "cell_type": "code",
      "execution_count": 73,
      "metadata": {
        "id": "_XJTOJ410aZy"
      },
      "outputs": [
        {
          "name": "stdout",
          "output_type": "stream",
          "text": [
            "  Embarked  Embarked_ordinal\n",
            "0        S               2.0\n",
            "1        C               0.0\n",
            "2        S               2.0\n",
            "3        S               2.0\n",
            "4        S               2.0\n"
          ]
        }
      ],
      "source": [
        "encoder = OrdinalEncoder()\n",
        "df['Embarked_ordinal'] = encoder.fit_transform(df[['Embarked']])\n",
        "print(df[['Embarked', 'Embarked_ordinal']].head())"
      ]
    },
    {
      "cell_type": "markdown",
      "metadata": {
        "id": "3_JzAnTR0aZy"
      },
      "source": [
        "**Araştırma Soru 5**: `numpy.log1p` fonksiyonunu araştırın ve `Fare` sütunundaki çarpıklığı azaltmak için nasıl kullanılabileceğini açıklayın."
      ]
    },
    {
      "cell_type": "code",
      "execution_count": 74,
      "metadata": {
        "id": "9Uk-av0s0aZy"
      },
      "outputs": [
        {
          "name": "stdout",
          "output_type": "stream",
          "text": [
            "      Fare  Fare_log\n",
            "0   7.2500  2.110213\n",
            "1  65.6125  4.198892\n",
            "2   7.9250  2.188856\n",
            "3  53.1000  3.990834\n",
            "4   8.0500  2.202765\n"
          ]
        }
      ],
      "source": [
        "df['Fare_log'] = np.log1p(df['Fare'])\n",
        "print(df[['Fare', 'Fare_log']].head())"
      ]
    }
  ],
  "metadata": {
    "colab": {
      "provenance": []
    },
    "kernelspec": {
      "display_name": "base",
      "language": "python",
      "name": "python3"
    },
    "language_info": {
      "codemirror_mode": {
        "name": "ipython",
        "version": 3
      },
      "file_extension": ".py",
      "mimetype": "text/x-python",
      "name": "python",
      "nbconvert_exporter": "python",
      "pygments_lexer": "ipython3",
      "version": "3.12.4"
    }
  },
  "nbformat": 4,
  "nbformat_minor": 0
}
